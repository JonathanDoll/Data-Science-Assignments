{
 "metadata": {
  "name": "",
  "signature": "sha256:675076ba18b021a4833ee4917c142d62e8bd65470baf04468da31201397066c3"
 },
 "nbformat": 3,
 "nbformat_minor": 0,
 "worksheets": [
  {
   "cells": [
    {
     "cell_type": "markdown",
     "metadata": {},
     "source": [
      "## Boston Housing Assignment\n",
      "\n",
      "In this assignment you'll be using linear regression to estimate the cost of house in boston, using a well known dataset.\n",
      "\n",
      "Goals:\n",
      "+  Measure the performance of the model I created using $R^{2}$ and MSE\n",
      "> Learn how to use sklearn.metrics.r2_score and sklearn.metrics.mean_squared_error\n",
      "+  Implement a new model using L2 regularization\n",
      "> Use sklearn.linear_model.Ridge or sklearn.linear_model.Lasso \n",
      "+  Get the best model you can by optimizing the regularization parameter.   "
     ]
    },
    {
     "cell_type": "code",
     "collapsed": false,
     "input": [
      "from sklearn import datasets\n",
      "import pandas as pd\n",
      "from sklearn.preprocessing import StandardScaler\n",
      "from sklearn.cross_validation import train_test_split\n",
      "from sklearn.metrics import mean_squared_error\n",
      "from sklearn.metrics import r2_score\n",
      "from sklearn.linear_model import LinearRegression"
     ],
     "language": "python",
     "metadata": {},
     "outputs": [],
     "prompt_number": 4
    },
    {
     "cell_type": "code",
     "collapsed": false,
     "input": [
      "bean = datasets.load_boston()\n",
      "print bean.DESCR"
     ],
     "language": "python",
     "metadata": {},
     "outputs": [
      {
       "output_type": "stream",
       "stream": "stdout",
       "text": [
        "Boston House Prices dataset\n",
        "\n",
        "Notes\n",
        "------\n",
        "Data Set Characteristics:  \n",
        "\n",
        "    :Number of Instances: 506 \n",
        "\n",
        "    :Number of Attributes: 13 numeric/categorical predictive\n",
        "    \n",
        "    :Median Value (attribute 14) is usually the target\n",
        "\n",
        "    :Attribute Information (in order):\n",
        "        - CRIM     per capita crime rate by town\n",
        "        - ZN       proportion of residential land zoned for lots over 25,000 sq.ft.\n",
        "        - INDUS    proportion of non-retail business acres per town\n",
        "        - CHAS     Charles River dummy variable (= 1 if tract bounds river; 0 otherwise)\n",
        "        - NOX      nitric oxides concentration (parts per 10 million)\n",
        "        - RM       average number of rooms per dwelling\n",
        "        - AGE      proportion of owner-occupied units built prior to 1940\n",
        "        - DIS      weighted distances to five Boston employment centres\n",
        "        - RAD      index of accessibility to radial highways\n",
        "        - TAX      full-value property-tax rate per $10,000\n",
        "        - PTRATIO  pupil-teacher ratio by town\n",
        "        - B        1000(Bk - 0.63)^2 where Bk is the proportion of blacks by town\n",
        "        - LSTAT    % lower status of the population\n",
        "        - MEDV     Median value of owner-occupied homes in $1000's\n",
        "\n",
        "    :Missing Attribute Values: None\n",
        "\n",
        "    :Creator: Harrison, D. and Rubinfeld, D.L.\n",
        "\n",
        "This is a copy of UCI ML housing dataset.\n",
        "http://archive.ics.uci.edu/ml/datasets/Housing\n",
        "\n",
        "\n",
        "This dataset was taken from the StatLib library which is maintained at Carnegie Mellon University.\n",
        "\n",
        "The Boston house-price data of Harrison, D. and Rubinfeld, D.L. 'Hedonic\n",
        "prices and the demand for clean air', J. Environ. Economics & Management,\n",
        "vol.5, 81-102, 1978.   Used in Belsley, Kuh & Welsch, 'Regression diagnostics\n",
        "...', Wiley, 1980.   N.B. Various transformations are used in the table on\n",
        "pages 244-261 of the latter.\n",
        "\n",
        "The Boston house-price data has been used in many machine learning papers that address regression\n",
        "problems.   \n",
        "     \n",
        "**References**\n",
        "\n",
        "   - Belsley, Kuh & Welsch, 'Regression diagnostics: Identifying Influential Data and Sources of Collinearity', Wiley, 1980. 244-261.\n",
        "   - Quinlan,R. (1993). Combining Instance-Based and Model-Based Learning. In Proceedings on the Tenth International Conference of Machine Learning, 236-243, University of Massachusetts, Amherst. Morgan Kaufmann.\n",
        "   - many more! (see http://archive.ics.uci.edu/ml/datasets/Housing)\n",
        "\n"
       ]
      }
     ],
     "prompt_number": 5
    },
    {
     "cell_type": "code",
     "collapsed": false,
     "input": [
      "def load_boston():\n",
      "    scaler = StandardScaler()\n",
      "    boston = datasets.load_boston()\n",
      "    X=boston.data\n",
      "    y=boston.target\n",
      "    X = scaler.fit_transform(X)\n",
      "    return train_test_split(X,y)\n",
      "    "
     ],
     "language": "python",
     "metadata": {},
     "outputs": [],
     "prompt_number": 6
    },
    {
     "cell_type": "code",
     "collapsed": false,
     "input": [
      "X_train, X_test, y_train, y_test = load_boston()"
     ],
     "language": "python",
     "metadata": {},
     "outputs": [],
     "prompt_number": 7
    },
    {
     "cell_type": "code",
     "collapsed": false,
     "input": [
      "X_train.shape"
     ],
     "language": "python",
     "metadata": {},
     "outputs": [
      {
       "metadata": {},
       "output_type": "pyout",
       "prompt_number": 8,
       "text": [
        "(379L, 13L)"
       ]
      }
     ],
     "prompt_number": 8
    },
    {
     "cell_type": "markdown",
     "metadata": {},
     "source": [
      "### Fitting a Linear Regression\n",
      "\n",
      "It's as easy as instantiating a new regression object (line 1) and giving your regression object your training data\n",
      "(line 2) by calling .fit(independent variables, dependent variable)\n",
      "\n"
     ]
    },
    {
     "cell_type": "code",
     "collapsed": false,
     "input": [
      "\n",
      "clf = LinearRegression()\n",
      "clf.fit(X_train, y_train)"
     ],
     "language": "python",
     "metadata": {},
     "outputs": [
      {
       "metadata": {},
       "output_type": "pyout",
       "prompt_number": 9,
       "text": [
        "LinearRegression(copy_X=True, fit_intercept=True, normalize=False)"
       ]
      }
     ],
     "prompt_number": 9
    },
    {
     "cell_type": "markdown",
     "metadata": {},
     "source": [
      "### Making a Prediction\n",
      "X_test is our holdout set of data.  We know the answer (y_test) but the computer does not.   \n",
      "\n",
      "Using the command below, I create a tuple for each observation, where I'm combining the real value (y_test) with\n",
      "the value our regressor predicts (clf.predict(X_test))\n",
      "\n",
      "Use a similiar format to get your r2 and mse metrics working.  Using the [scikit learn api](http://scikit-learn.org/stable/modules/model_evaluation.html) if you need help!"
     ]
    },
    {
     "cell_type": "code",
     "collapsed": false,
     "input": [
      "zip (y_test, clf.predict(X_test))"
     ],
     "language": "python",
     "metadata": {},
     "outputs": [
      {
       "metadata": {},
       "output_type": "pyout",
       "prompt_number": 10,
       "text": [
        "[(22.800000000000001, 29.194802825082817),\n",
        " (13.5, 13.707299547195735),\n",
        " (14.1, 18.147185874869169),\n",
        " (26.600000000000001, 26.999808452647454),\n",
        " (24.199999999999999, 24.533209755541353),\n",
        " (11.9, 9.7559034763417145),\n",
        " (31.5, 32.543626354878874),\n",
        " (13.5, 12.624039839724816),\n",
        " (9.6999999999999993, 10.694476856442858),\n",
        " (16.100000000000001, 21.65068806944257),\n",
        " (23.199999999999999, 17.58976058681322),\n",
        " (26.399999999999999, 23.87228440852212),\n",
        " (17.899999999999999, 1.8617894715906722),\n",
        " (18.899999999999999, 18.526693990626818),\n",
        " (27.100000000000001, 19.165639267929091),\n",
        " (18.699999999999999, 21.772821135257463),\n",
        " (36.200000000000003, 27.426475938996312),\n",
        " (24.800000000000001, 30.851941682308379),\n",
        " (24.800000000000001, 24.604627377930239),\n",
        " (37.299999999999997, 34.787294730856814),\n",
        " (20.300000000000001, 22.625453025267955),\n",
        " (18.300000000000001, 21.198866532995478),\n",
        " (44.0, 37.502654354108003),\n",
        " (42.799999999999997, 27.708851146980571),\n",
        " (23.899999999999999, 28.137009070133704),\n",
        " (26.600000000000001, 21.648140094493069),\n",
        " (22.600000000000001, 27.581224342575318),\n",
        " (48.299999999999997, 36.417819809192224),\n",
        " (10.9, 18.41864884953948),\n",
        " (17.100000000000001, 19.559227482328424),\n",
        " (14.6, 19.648121784347151),\n",
        " (14.1, 15.31525741461482),\n",
        " (15.699999999999999, 13.887736448623215),\n",
        " (28.5, 34.068853985636338),\n",
        " (22.5, 22.250889449236862),\n",
        " (19.5, 19.759168327252365),\n",
        " (15.6, 13.522154102470179),\n",
        " (14.9, 17.101340181841088),\n",
        " (11.300000000000001, 14.106555162161545),\n",
        " (46.0, 38.673822404044969),\n",
        " (14.300000000000001, 14.568808687819836),\n",
        " (16.100000000000001, 18.841055666684124),\n",
        " (34.899999999999999, 30.331038522250964),\n",
        " (21.100000000000001, 20.408499070129722),\n",
        " (30.800000000000001, 31.979555898017434),\n",
        " (19.0, 21.38133351990562),\n",
        " (11.9, 23.250834758455131),\n",
        " (21.699999999999999, 22.04950866416662),\n",
        " (19.199999999999999, 24.681986421257172),\n",
        " (22.5, 29.309772130815276),\n",
        " (39.799999999999997, 34.56104685792841),\n",
        " (21.600000000000001, 26.183662212063481),\n",
        " (13.6, 13.086198143360502),\n",
        " (29.899999999999999, 31.896169990068358),\n",
        " (11.699999999999999, 14.893165472700145),\n",
        " (22.600000000000001, 27.734077875504404),\n",
        " (18.600000000000001, 20.237309800079409),\n",
        " (21.199999999999999, 21.037853990745877),\n",
        " (21.699999999999999, 21.355180224286634),\n",
        " (12.699999999999999, 11.621995634636146),\n",
        " (16.699999999999999, 19.917336850004787),\n",
        " (33.299999999999997, 35.953185248494933),\n",
        " (50.0, 42.597809537144506),\n",
        " (32.200000000000003, 31.24599781573427),\n",
        " (19.5, 20.294333245632149),\n",
        " (20.199999999999999, 16.569460555098743),\n",
        " (32.0, 34.105913292478768),\n",
        " (13.199999999999999, 8.1679611929283045),\n",
        " (16.5, 21.956083960370115),\n",
        " (22.0, 28.180619794399977),\n",
        " (15.0, 15.392469857686176),\n",
        " (8.5, 6.8221319352421741),\n",
        " (21.5, 20.677642702837549),\n",
        " (30.100000000000001, 35.77898292384107),\n",
        " (29.800000000000001, 25.472390111946083),\n",
        " (17.399999999999999, 16.21934434483892),\n",
        " (37.600000000000001, 37.386767165583855),\n",
        " (20.399999999999999, 21.750060349081494),\n",
        " (20.300000000000001, 24.285142674296491),\n",
        " (23.600000000000001, 31.227156574720841),\n",
        " (41.700000000000003, 37.327560011872421),\n",
        " (31.600000000000001, 32.579542010608563),\n",
        " (13.800000000000001, 10.738871470938575),\n",
        " (28.199999999999999, 33.509072871184102),\n",
        " (24.699999999999999, 23.100491688801817),\n",
        " (22.0, 26.782253929998589),\n",
        " (21.5, 23.980609216452386),\n",
        " (22.699999999999999, 21.696853124866983),\n",
        " (25.0, 24.443566491441619),\n",
        " (46.700000000000003, 34.548723042939351),\n",
        " (17.399999999999999, 17.548922760933593),\n",
        " (11.5, 15.163634890098166),\n",
        " (16.199999999999999, 15.79415250818427),\n",
        " (14.5, 14.234514541716692),\n",
        " (19.600000000000001, 18.774458593300164),\n",
        " (18.399999999999999, 19.25809144133019),\n",
        " (7.2000000000000002, 8.3032339952641774),\n",
        " (13.9, 17.387251901588233),\n",
        " (25.0, 23.309991673939049),\n",
        " (17.800000000000001, 21.899058558770037),\n",
        " (19.600000000000001, 18.268843591763762),\n",
        " (13.9, 13.828041193438079),\n",
        " (19.800000000000001, 23.581650044792969),\n",
        " (16.5, 10.860609357260632),\n",
        " (21.899999999999999, 17.16510421324077),\n",
        " (33.200000000000003, 34.405959688060619),\n",
        " (22.800000000000001, 26.976288775792412),\n",
        " (6.2999999999999998, 10.535026532866157),\n",
        " (17.300000000000001, 15.561111176837997),\n",
        " (33.799999999999997, 34.875861352845547),\n",
        " (8.8000000000000007, 4.7492845163529758),\n",
        " (18.800000000000001, 20.250758773467361),\n",
        " (17.5, 19.399461986651552),\n",
        " (50.0, 43.186263257449752),\n",
        " (20.0, 18.919470257518359),\n",
        " (24.699999999999999, 25.150736676647441),\n",
        " (50.0, 39.201226393630606),\n",
        " (13.1, 20.637028066247272),\n",
        " (22.899999999999999, 29.061871161278724),\n",
        " (21.600000000000001, 25.132565215054452),\n",
        " (22.0, 27.320057536185587),\n",
        " (25.0, 28.759692860479134),\n",
        " (12.0, 12.105359365302608),\n",
        " (24.699999999999999, 23.91897634606665),\n",
        " (50.0, 39.857702281080464),\n",
        " (16.399999999999999, 18.795944108529653),\n",
        " (15.199999999999999, 15.995233898613368)]"
       ]
      }
     ],
     "prompt_number": 10
    },
    {
     "cell_type": "markdown",
     "metadata": {},
     "source": [
      "### r2 score"
     ]
    },
    {
     "cell_type": "code",
     "collapsed": false,
     "input": [
      "r2_score(y_test, clf.predict(X_test))"
     ],
     "language": "python",
     "metadata": {},
     "outputs": [
      {
       "metadata": {},
       "output_type": "pyout",
       "prompt_number": 13,
       "text": [
        "0.77197972721072594"
       ]
      }
     ],
     "prompt_number": 13
    },
    {
     "cell_type": "markdown",
     "metadata": {},
     "source": [
      "### MSE"
     ]
    },
    {
     "cell_type": "code",
     "collapsed": false,
     "input": [
      "mean_squared_error(y_test, clf.predict(X_test))"
     ],
     "language": "python",
     "metadata": {},
     "outputs": [
      {
       "metadata": {},
       "output_type": "pyout",
       "prompt_number": 14,
       "text": [
        "21.773717628584048"
       ]
      }
     ],
     "prompt_number": 14
    },
    {
     "cell_type": "markdown",
     "metadata": {},
     "source": [
      "### For the fun of it, RMSE"
     ]
    },
    {
     "cell_type": "code",
     "collapsed": false,
     "input": [
      "mean_squared_error(y_test, clf.predict(X_test))**.5"
     ],
     "language": "python",
     "metadata": {},
     "outputs": [
      {
       "metadata": {},
       "output_type": "pyout",
       "prompt_number": 15,
       "text": [
        "4.6662316304041367"
       ]
      }
     ],
     "prompt_number": 15
    },
    {
     "cell_type": "code",
     "collapsed": false,
     "input": [
      "from sklearn.linear_model import Ridge"
     ],
     "language": "python",
     "metadata": {},
     "outputs": [],
     "prompt_number": 75
    },
    {
     "cell_type": "code",
     "collapsed": false,
     "input": [
      "rdg = Ridge()"
     ],
     "language": "python",
     "metadata": {},
     "outputs": [],
     "prompt_number": 76
    },
    {
     "cell_type": "code",
     "collapsed": false,
     "input": [
      "rdg.fit(X_train, y_train)"
     ],
     "language": "python",
     "metadata": {},
     "outputs": [
      {
       "metadata": {},
       "output_type": "pyout",
       "prompt_number": 77,
       "text": [
        "Ridge(alpha=1.0, copy_X=True, fit_intercept=True, max_iter=None,\n",
        "   normalize=False, solver='auto', tol=0.001)"
       ]
      }
     ],
     "prompt_number": 77
    },
    {
     "cell_type": "code",
     "collapsed": false,
     "input": [
      "zip(y_test, rdg.predict(X_test))"
     ],
     "language": "python",
     "metadata": {},
     "outputs": [
      {
       "metadata": {},
       "output_type": "pyout",
       "prompt_number": 78,
       "text": [
        "[(22.800000000000001, 29.177856154235315),\n",
        " (13.5, 13.745807783904407),\n",
        " (14.1, 18.122749697669718),\n",
        " (26.600000000000001, 27.021644526601005),\n",
        " (24.199999999999999, 24.542868945508129),\n",
        " (11.9, 9.6985866407989487),\n",
        " (31.5, 32.52602202837366),\n",
        " (13.5, 12.633206158637249),\n",
        " (9.6999999999999993, 10.680051370449455),\n",
        " (16.100000000000001, 21.599451276645258),\n",
        " (23.199999999999999, 17.584151196610616),\n",
        " (26.399999999999999, 23.81418473729001),\n",
        " (17.899999999999999, 1.8319627367112581),\n",
        " (18.899999999999999, 18.56709586484769),\n",
        " (27.100000000000001, 19.198228118659031),\n",
        " (18.699999999999999, 21.763302141023821),\n",
        " (36.200000000000003, 27.466099080738104),\n",
        " (24.800000000000001, 30.854756175690195),\n",
        " (24.800000000000001, 24.632254436918174),\n",
        " (37.299999999999997, 34.694981566230297),\n",
        " (20.300000000000001, 22.633038565451869),\n",
        " (18.300000000000001, 21.215706426222841),\n",
        " (44.0, 37.423169518334397),\n",
        " (42.799999999999997, 27.811121721340314),\n",
        " (23.899999999999999, 28.129968910334973),\n",
        " (26.600000000000001, 21.774056090772085),\n",
        " (22.600000000000001, 27.543599972476752),\n",
        " (48.299999999999997, 36.408225483120333),\n",
        " (10.9, 18.415620101922716),\n",
        " (17.100000000000001, 19.582857621681029),\n",
        " (14.6, 19.61507536631472),\n",
        " (14.1, 15.326990046299562),\n",
        " (15.699999999999999, 13.792929437825411),\n",
        " (28.5, 33.969078429366718),\n",
        " (22.5, 22.253370836687836),\n",
        " (19.5, 19.761311222352578),\n",
        " (15.6, 13.54905550418504),\n",
        " (14.9, 17.114840553323411),\n",
        " (11.300000000000001, 14.089162110654401),\n",
        " (46.0, 38.648925440305973),\n",
        " (14.300000000000001, 14.58931493535021),\n",
        " (16.100000000000001, 18.84171627804599),\n",
        " (34.899999999999999, 30.364642409959576),\n",
        " (21.100000000000001, 20.431117964755135),\n",
        " (30.800000000000001, 31.914087995341546),\n",
        " (19.0, 21.378581190959153),\n",
        " (11.9, 23.239478992859738),\n",
        " (21.699999999999999, 22.07950114844321),\n",
        " (19.199999999999999, 24.693289698717322),\n",
        " (22.5, 29.307816713608197),\n",
        " (39.799999999999997, 34.531660104261192),\n",
        " (21.600000000000001, 26.166322454043765),\n",
        " (13.6, 13.114224431680192),\n",
        " (29.899999999999999, 31.876178313421093),\n",
        " (11.699999999999999, 14.838927085290717),\n",
        " (22.600000000000001, 27.733547344910281),\n",
        " (18.600000000000001, 20.253059874739755),\n",
        " (21.199999999999999, 21.067387776293216),\n",
        " (21.699999999999999, 21.359318038469386),\n",
        " (12.699999999999999, 11.668586998694265),\n",
        " (16.699999999999999, 19.910212716222414),\n",
        " (33.299999999999997, 35.953888668163259),\n",
        " (50.0, 42.583145846674967),\n",
        " (32.200000000000003, 31.239269993661072),\n",
        " (19.5, 20.297609570866651),\n",
        " (20.199999999999999, 16.590997806194935),\n",
        " (32.0, 34.082135496066911),\n",
        " (13.199999999999999, 8.2348544016703897),\n",
        " (16.5, 22.117497938007681),\n",
        " (22.0, 28.175002455080509),\n",
        " (15.0, 15.360369360969917),\n",
        " (8.5, 6.864427008776719),\n",
        " (21.5, 20.733086382814488),\n",
        " (30.100000000000001, 35.725754710416304),\n",
        " (29.800000000000001, 25.450517380081514),\n",
        " (17.399999999999999, 16.242169772986301),\n",
        " (37.600000000000001, 37.353485916241908),\n",
        " (20.399999999999999, 21.756483390418119),\n",
        " (20.300000000000001, 24.266051704276514),\n",
        " (23.600000000000001, 31.229900446525761),\n",
        " (41.700000000000003, 37.318938802533964),\n",
        " (31.600000000000001, 32.53790902948802),\n",
        " (13.800000000000001, 10.830153650497984),\n",
        " (28.199999999999999, 33.406814896507456),\n",
        " (24.699999999999999, 23.097082839946378),\n",
        " (22.0, 26.782170844132644),\n",
        " (21.5, 23.945413082265031),\n",
        " (22.699999999999999, 21.724887388206124),\n",
        " (25.0, 24.425258900180957),\n",
        " (46.700000000000003, 34.539736398550744),\n",
        " (17.399999999999999, 17.592671552284344),\n",
        " (11.5, 15.137004615298983),\n",
        " (16.199999999999999, 15.807173094094022),\n",
        " (14.5, 14.270082816634282),\n",
        " (19.600000000000001, 18.809063017841858),\n",
        " (18.399999999999999, 19.254216530063463),\n",
        " (7.2000000000000002, 8.3088181217670929),\n",
        " (13.9, 17.390651700885879),\n",
        " (25.0, 23.30917091351111),\n",
        " (17.800000000000001, 21.926892389274609),\n",
        " (19.600000000000001, 18.292603683400621),\n",
        " (13.9, 13.861924164229176),\n",
        " (19.800000000000001, 23.592830103010826),\n",
        " (16.5, 10.913339344402456),\n",
        " (21.899999999999999, 17.112222388144609),\n",
        " (33.200000000000003, 34.37664070751778),\n",
        " (22.800000000000001, 27.002109198711047),\n",
        " (6.2999999999999998, 10.548982837424166),\n",
        " (17.300000000000001, 15.469675809494934),\n",
        " (33.799999999999997, 34.847862821032422),\n",
        " (8.8000000000000007, 4.8202305695276451),\n",
        " (18.800000000000001, 20.138829617754158),\n",
        " (17.5, 19.411195196414685),\n",
        " (50.0, 43.130837377744498),\n",
        " (20.0, 18.920337032440635),\n",
        " (24.699999999999999, 25.185189813010219),\n",
        " (50.0, 39.194222441990803),\n",
        " (13.1, 20.622987845798921),\n",
        " (22.899999999999999, 28.97165443736942),\n",
        " (21.600000000000001, 25.133426017451352),\n",
        " (22.0, 27.341944494336765),\n",
        " (25.0, 28.714281579019946),\n",
        " (12.0, 12.076820012453661),\n",
        " (24.699999999999999, 23.934038428723888),\n",
        " (50.0, 39.871864622144997),\n",
        " (16.399999999999999, 18.808804091337436),\n",
        " (15.199999999999999, 16.036098224637179)]"
       ]
      }
     ],
     "prompt_number": 78
    },
    {
     "cell_type": "markdown",
     "metadata": {},
     "source": [
      "### r2 Score for Ridge before optimization"
     ]
    },
    {
     "cell_type": "code",
     "collapsed": false,
     "input": [
      "r2_score(y_test, rdg.predict(X_test))"
     ],
     "language": "python",
     "metadata": {},
     "outputs": [
      {
       "metadata": {},
       "output_type": "pyout",
       "prompt_number": 79,
       "text": [
        "0.77262308148802816"
       ]
      }
     ],
     "prompt_number": 79
    },
    {
     "cell_type": "markdown",
     "metadata": {},
     "source": [
      "### MSE for Ridge before optimization"
     ]
    },
    {
     "cell_type": "code",
     "collapsed": false,
     "input": [
      "mean_squared_error(y_test, rdg.predict(X_test))"
     ],
     "language": "python",
     "metadata": {},
     "outputs": [
      {
       "metadata": {},
       "output_type": "pyout",
       "prompt_number": 80,
       "text": [
        "21.712283554333702"
       ]
      }
     ],
     "prompt_number": 80
    },
    {
     "cell_type": "markdown",
     "metadata": {},
     "source": [
      "### RMSE for Ridge before optimization"
     ]
    },
    {
     "cell_type": "code",
     "collapsed": false,
     "input": [
      "mean_squared_error(y_test, rdg.predict(X_test))**.5"
     ],
     "language": "python",
     "metadata": {},
     "outputs": [
      {
       "metadata": {},
       "output_type": "pyout",
       "prompt_number": 81,
       "text": [
        "4.6596441446030727"
       ]
      }
     ],
     "prompt_number": 81
    },
    {
     "cell_type": "markdown",
     "metadata": {},
     "source": [
      "### Using a loop to determine the best value for the alpha for best r2 value (incrementing by 1)"
     ]
    },
    {
     "cell_type": "code",
     "collapsed": false,
     "input": [
      "a = 1"
     ],
     "language": "python",
     "metadata": {},
     "outputs": [],
     "prompt_number": 82
    },
    {
     "cell_type": "code",
     "collapsed": false,
     "input": [
      "prev = r2_score(y_test, rdg.predict(X_test))"
     ],
     "language": "python",
     "metadata": {},
     "outputs": [],
     "prompt_number": 83
    },
    {
     "cell_type": "code",
     "collapsed": false,
     "input": [
      "while True:\n",
      "    a += 1\n",
      "    rdg = Ridge(alpha = a)\n",
      "    rdg.fit(X_train, y_train)\n",
      "    cur = r2_score(y_test, rdg.predict(X_test))\n",
      "    if cur <= prev:\n",
      "        a -= 1\n",
      "        break\n",
      "    else:\n",
      "        prev = cur"
     ],
     "language": "python",
     "metadata": {},
     "outputs": [],
     "prompt_number": 90
    },
    {
     "cell_type": "code",
     "collapsed": false,
     "input": [
      "rdg = Ridge(alpha = a)"
     ],
     "language": "python",
     "metadata": {},
     "outputs": [],
     "prompt_number": 97
    },
    {
     "cell_type": "code",
     "collapsed": false,
     "input": [
      "rdg.fit(X_train, y_train)"
     ],
     "language": "python",
     "metadata": {},
     "outputs": [
      {
       "metadata": {},
       "output_type": "pyout",
       "prompt_number": 98,
       "text": [
        "Ridge(alpha=36, copy_X=True, fit_intercept=True, max_iter=None,\n",
        "   normalize=False, solver='auto', tol=0.001)"
       ]
      }
     ],
     "prompt_number": 98
    },
    {
     "cell_type": "markdown",
     "metadata": {},
     "source": [
      "### Results"
     ]
    },
    {
     "cell_type": "markdown",
     "metadata": {},
     "source": [
      "Looking at the fit description above, the optimal alpha value was 36.  Below you can see the new r2 score, MSE, and RMSE values."
     ]
    },
    {
     "cell_type": "code",
     "collapsed": false,
     "input": [
      "r2_score(y_test, rdg.predict(X_test))"
     ],
     "language": "python",
     "metadata": {},
     "outputs": [
      {
       "metadata": {},
       "output_type": "pyout",
       "prompt_number": 99,
       "text": [
        "0.78031486421515006"
       ]
      }
     ],
     "prompt_number": 99
    },
    {
     "cell_type": "code",
     "collapsed": false,
     "input": [
      "mean_squared_error(y_test, rdg.predict(X_test))"
     ],
     "language": "python",
     "metadata": {},
     "outputs": [
      {
       "metadata": {},
       "output_type": "pyout",
       "prompt_number": 100,
       "text": [
        "20.97779313770506"
       ]
      }
     ],
     "prompt_number": 100
    },
    {
     "cell_type": "code",
     "collapsed": false,
     "input": [
      "mean_squared_error(y_test, rdg.predict(X_test))**.5"
     ],
     "language": "python",
     "metadata": {},
     "outputs": [
      {
       "metadata": {},
       "output_type": "pyout",
       "prompt_number": 101,
       "text": [
        "4.5801520867439613"
       ]
      }
     ],
     "prompt_number": 101
    },
    {
     "cell_type": "code",
     "collapsed": false,
     "input": [],
     "language": "python",
     "metadata": {},
     "outputs": []
    }
   ],
   "metadata": {}
  }
 ]
}