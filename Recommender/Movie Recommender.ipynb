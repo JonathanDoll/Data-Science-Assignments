{
 "metadata": {
  "name": "",
  "signature": "sha256:1d00b0d3ab184cff27135ff6cb4b7a601d167d37952c1bcdac716582214c0b62"
 },
 "nbformat": 3,
 "nbformat_minor": 0,
 "worksheets": [
  {
   "cells": [
    {
     "cell_type": "code",
     "collapsed": false,
     "input": [
      "import pandas as pd\n",
      "import numpy as np"
     ],
     "language": "python",
     "metadata": {},
     "outputs": [],
     "prompt_number": 1
    },
    {
     "cell_type": "code",
     "collapsed": false,
     "input": [
      "#download the class movie reviews from here:\n",
      "#https://docs.google.com/spreadsheets/d/17rCJzmWxqvAu9rkpkgt4ToccIlY4A1Ffuu1W9X3B8Ag/\n",
      "#then read that in as a pandas dataframe"
     ],
     "language": "python",
     "metadata": {},
     "outputs": [],
     "prompt_number": 2
    },
    {
     "cell_type": "code",
     "collapsed": false,
     "input": [
      "M = pd.read_csv(\"mr.csv\", index_col='Name')"
     ],
     "language": "python",
     "metadata": {},
     "outputs": [],
     "prompt_number": 3
    },
    {
     "cell_type": "code",
     "collapsed": false,
     "input": [
      "def pearson(s1, s2):\n",
      "    \"\"\"Take two pd.Series objects and return a pearson correlation.\"\"\"\n",
      "    s1_c = s1 - s1.mean()\n",
      "    s2_c = s2 - s2.mean()\n",
      "    return np.sum(s1_c * s2_c) / np.sqrt(np.sum(s1_c ** 2) * np.sum(s2_c ** 2))"
     ],
     "language": "python",
     "metadata": {},
     "outputs": [],
     "prompt_number": 4
    },
    {
     "cell_type": "code",
     "collapsed": false,
     "input": [
      "def get_recs(movie_name, M, num):\n",
      "\n",
      "    import numpy as np\n",
      "    reviews = []\n",
      "    for title in M.columns:\n",
      "        if title == movie_name:\n",
      "            continue\n",
      "        cor = pearson(M[movie_name], M[title])\n",
      "        if np.isnan(cor):\n",
      "            continue\n",
      "        else:\n",
      "            reviews.append((title, cor))\n",
      "    \n",
      "    reviews.sort(key=lambda tup: tup[1], reverse=True)\n",
      "    return reviews[:num]\n",
      "\n",
      "    "
     ],
     "language": "python",
     "metadata": {},
     "outputs": [],
     "prompt_number": 5
    },
    {
     "cell_type": "markdown",
     "metadata": {},
     "source": [
      "###Question 1:  What movie is most Similar to 'The fault in our stars' (60 pts)\n"
     ]
    },
    {
     "cell_type": "code",
     "collapsed": false,
     "input": [
      "get_recs(\"The Fault in Our Stars\", M, 1)"
     ],
     "language": "python",
     "metadata": {},
     "outputs": [
      {
       "metadata": {},
       "output_type": "pyout",
       "prompt_number": 6,
       "text": [
        "[('Transformers', 0.45574896698689149)]"
       ]
      }
     ],
     "prompt_number": 6
    },
    {
     "cell_type": "markdown",
     "metadata": {},
     "source": [
      "###Answer 1: Transformers"
     ]
    },
    {
     "cell_type": "markdown",
     "metadata": {},
     "source": [
      "###Question 2:  Which movie(s) would you most like to see, based on your classmates experience? (40 pts)"
     ]
    },
    {
     "cell_type": "code",
     "collapsed": false,
     "input": [
      "#HINTS...\n",
      "\n",
      "#the movies I've seen\n",
      "my_ratings = M.ix['Mike'].dropna()\n",
      "#the movie I've rated the highest\n",
      "my_ratings.sort(ascending=False)\n",
      "#the name of the movie I've rated the highest\n",
      "fav_movie = my_ratings.index[0]"
     ],
     "language": "python",
     "metadata": {},
     "outputs": [],
     "prompt_number": 15
    },
    {
     "cell_type": "code",
     "collapsed": false,
     "input": [
      "myRatings = M.ix[\"Jonathan Doll\"].dropna()\n",
      "myRatings.sort(ascending=False)\n",
      "favMovie = myRatings.index[0]\n",
      "print favMovie"
     ],
     "language": "python",
     "metadata": {},
     "outputs": [
      {
       "output_type": "stream",
       "stream": "stdout",
       "text": [
        "The Hobbit\n"
       ]
      }
     ],
     "prompt_number": 7
    },
    {
     "cell_type": "code",
     "collapsed": false,
     "input": [
      "get_recs(favMovie, M, 10)"
     ],
     "language": "python",
     "metadata": {},
     "outputs": [
      {
       "metadata": {},
       "output_type": "pyout",
       "prompt_number": 8,
       "text": [
        "[('How to Train your Dragon 2', 0.39024310361223619),\n",
        " ('Interstellar', 0.32106919647970833),\n",
        " ('300: Rise of an Empire', 0.26652300711906385),\n",
        " ('The Hunger Games: Mockingjay - Part 1', 0.23589135168978362),\n",
        " ('Divergent', 0.20032077005375098),\n",
        " ('Guardians of the Galaxy', 0.17469941573160597),\n",
        " ('American Sniper', 0.042494452475255538),\n",
        " ('The Lego Movie', 0.028329634983503691),\n",
        " ('Malificent', -0.056561497210867152),\n",
        " ('The Fault in Our Stars', -0.11116808756246799)]"
       ]
      }
     ],
     "prompt_number": 8
    },
    {
     "cell_type": "markdown",
     "metadata": {},
     "source": [
      "###Answers 2: It seems the top three movie's I'd most like to see are How to Train your Dragon 2, Interstellar, and 300: Rise of an Empire."
     ]
    },
    {
     "cell_type": "markdown",
     "metadata": {},
     "source": [
      "###Question 3: Bonus Question...  For all the movies you haven't seen, can you predict how you'd rate them using your the class reviews? (10 pts)"
     ]
    },
    {
     "cell_type": "code",
     "collapsed": false,
     "input": [],
     "language": "python",
     "metadata": {},
     "outputs": []
    }
   ],
   "metadata": {}
  }
 ]
}