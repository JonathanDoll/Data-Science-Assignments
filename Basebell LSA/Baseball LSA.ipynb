{
 "metadata": {
  "name": "",
  "signature": "sha256:f8f4012e11bfe31210e3f9f788035bda45a5c65f5e9aab653c157a6f54d0f3a7"
 },
 "nbformat": 3,
 "nbformat_minor": 0,
 "worksheets": [
  {
   "cells": [
    {
     "cell_type": "markdown",
     "metadata": {},
     "source": [
      "##LSA Lab"
     ]
    },
    {
     "cell_type": "code",
     "collapsed": false,
     "input": [
      "from sklearn.datasets import fetch_20newsgroups\n",
      "categories = ['rec.sport.baseball']\n",
      "dataset = fetch_20newsgroups(subset='all',shuffle=True, random_state=42, categories=categories)\n",
      "corpus = dataset.data"
     ],
     "language": "python",
     "metadata": {},
     "outputs": [
      {
       "output_type": "stream",
       "stream": "stderr",
       "text": [
        "WARNING:sklearn.datasets.twenty_newsgroups:Downloading dataset from http://people.csail.mit.edu/jrennie/20Newsgroups/20news-bydate.tar.gz (14 MB)\n"
       ]
      }
     ],
     "prompt_number": 1
    },
    {
     "cell_type": "code",
     "collapsed": false,
     "input": [
      "import nltk\n",
      "from nltk.corpus import stopwords\n",
      "from sklearn.feature_extraction.text import TfidfVectorizer\n",
      "from sklearn.decomposition import TruncatedSVD\n",
      "nltk.download(\"stopwords\")"
     ],
     "language": "python",
     "metadata": {},
     "outputs": [
      {
       "output_type": "stream",
       "stream": "stdout",
       "text": [
        "[nltk_data] Downloading package stopwords to\n",
        "[nltk_data]     C:\\Users\\John\\AppData\\Roaming\\nltk_data...\n",
        "[nltk_data]   Package stopwords is already up-to-date!\n"
       ]
      },
      {
       "metadata": {},
       "output_type": "pyout",
       "prompt_number": 11,
       "text": [
        "True"
       ]
      }
     ],
     "prompt_number": 11
    },
    {
     "cell_type": "code",
     "collapsed": false,
     "input": [
      "stopset = set(stopwords.words(\"english\"))"
     ],
     "language": "python",
     "metadata": {},
     "outputs": [],
     "prompt_number": 10
    },
    {
     "cell_type": "code",
     "collapsed": false,
     "input": [
      "corpus[0]"
     ],
     "language": "python",
     "metadata": {},
     "outputs": [
      {
       "metadata": {},
       "output_type": "pyout",
       "prompt_number": 12,
       "text": [
        "u\"From: writingctr@leo.bsuvc.bsu.edu\\nSubject: Re: CUB fever.\\nOrganization: Ball State University, Muncie, In - Univ. Computing Svc's\\nLines: 21\\n\\n\\nIn article <kingoz.735285670@camelot>, kingoz@camelot.bradley.edu (Orin Roth) writes:\\n> \\n>    CUB fever is hitting me again. I'm beginning to think they have a \\n>    chance this year. (what the heck am i thinking?)\\n>    Sorry. Just a moment of incompetence.\\n>    I'll be ok. Really. \\n>    Orin.\\n>    Bradley U.\\n> \\n> --\\n> I'm really a jester in disguise!                                   \\nI hear ya!  Then again, we must remember that we are indeed Cub fans, and\\nthat the Cubs will eventually blow it.  After all, the Cubs are the easiest\\nteam in the National League to root for.  No Pressure.  You know they will\\nlose eventually.  Oh well, I suppose we must have faith.  After all, they\\ndo look pretty good, and they don't even have Sandberg back yet.  \\n\\nCUBS IN '93!!!!!\\n\\nCHA\\n\""
       ]
      }
     ],
     "prompt_number": 12
    },
    {
     "cell_type": "code",
     "collapsed": false,
     "input": [
      "stopset.update([\"\\n>\", \"from\", \"re\", \"subject\", \"\\n\", \"writes\", \"com\", \"edu\", \"00\", \"000\", \"nntp\", \"posting\", \"cs\", \"001\", \"616\", \"100\"])"
     ],
     "language": "python",
     "metadata": {},
     "outputs": [],
     "prompt_number": 41
    },
    {
     "cell_type": "markdown",
     "metadata": {},
     "source": [
      "After several stop word updates, I think I finally have some readable data. Except for posts 25 and 26 of course. I think those guys are just messing with me."
     ]
    },
    {
     "cell_type": "code",
     "collapsed": false,
     "input": [
      "vect = TfidfVectorizer(stop_words=stopset, use_idf=True, ngram_range=(1,3))\n",
      "X = vect.fit_transform(corpus)"
     ],
     "language": "python",
     "metadata": {},
     "outputs": [],
     "prompt_number": 42
    },
    {
     "cell_type": "code",
     "collapsed": false,
     "input": [
      "X.shape"
     ],
     "language": "python",
     "metadata": {},
     "outputs": [
      {
       "metadata": {},
       "output_type": "pyout",
       "prompt_number": 43,
       "text": [
        "(994, 190654)"
       ]
      }
     ],
     "prompt_number": 43
    },
    {
     "cell_type": "code",
     "collapsed": false,
     "input": [
      "lsa = TruncatedSVD(n_components=27, n_iter=100)\n",
      "lsa.fit(X)"
     ],
     "language": "python",
     "metadata": {},
     "outputs": [
      {
       "metadata": {},
       "output_type": "pyout",
       "prompt_number": 44,
       "text": [
        "TruncatedSVD(algorithm='randomized', n_components=27, n_iter=100,\n",
        "       random_state=None, tol=0.0)"
       ]
      }
     ],
     "prompt_number": 44
    },
    {
     "cell_type": "code",
     "collapsed": false,
     "input": [
      "terms = vect.get_feature_names()\n",
      "for i, comp in enumerate(lsa.components_): \n",
      "    termsInComp = zip (terms,comp)\n",
      "    sortedTerms =  sorted(termsInComp, key=lambda x: x[1], reverse=True) [:10]\n",
      "    print \"Concept %d:\" % i\n",
      "    for term in sortedTerms:\n",
      "        print term[0]\n",
      "    print \" \""
     ],
     "language": "python",
     "metadata": {},
     "outputs": [
      {
       "output_type": "stream",
       "stream": "stdout",
       "text": [
        "Concept 0:\n",
        "year\n",
        "team\n",
        "would\n",
        "game\n",
        "article\n",
        "baseball\n",
        "players\n",
        "games\n",
        "one\n",
        "good\n",
        " \n",
        "Concept 1:"
       ]
      },
      {
       "output_type": "stream",
       "stream": "stdout",
       "text": [
        "\n",
        "university\n",
        "jewish\n",
        "think\n",
        "players\n",
        "article\n",
        "go\n",
        "braves\n",
        "know\n",
        "baseball\n",
        "run\n",
        " \n",
        "Concept 2:"
       ]
      },
      {
       "output_type": "stream",
       "stream": "stdout",
       "text": [
        "\n",
        "games\n",
        "morris\n",
        "organization\n",
        "one\n",
        "runs\n",
        "didn\n",
        "team\n",
        "two\n",
        "bonds\n",
        "play\n",
        " \n",
        "Concept 3:"
       ]
      },
      {
       "output_type": "stream",
       "stream": "stdout",
       "text": [
        "\n",
        "time\n",
        "article\n",
        "runs\n",
        "games\n",
        "game\n",
        "roger\n",
        "think\n",
        "see\n",
        "point\n",
        "pretty\n",
        " \n",
        "Concept 4:"
       ]
      },
      {
       "output_type": "stream",
       "stream": "stdout",
       "text": [
        "\n",
        "david\n",
        "new\n",
        "last\n",
        "first\n",
        "hit\n",
        "kingston\n",
        "think\n",
        "mets\n",
        "could\n",
        "mail\n",
        " \n",
        "Concept 5:"
       ]
      },
      {
       "output_type": "stream",
       "stream": "stdout",
       "text": [
        "\n",
        "well\n",
        "runs\n",
        "jewish\n",
        "sox\n",
        "team\n",
        "20\n",
        "day\n",
        "won\n",
        "last year\n",
        "article\n",
        " \n",
        "Concept 6:"
       ]
      },
      {
       "output_type": "stream",
       "stream": "stdout",
       "text": [
        "\n",
        "team\n",
        "organization university\n",
        "win\n",
        "lines\n",
        "organization\n",
        "let\n",
        "people\n",
        "hit\n",
        "distribution\n",
        "world\n",
        " \n",
        "Concept 7:"
       ]
      },
      {
       "output_type": "stream",
       "stream": "stdout",
       "text": [
        "\n",
        "hit\n",
        "last\n",
        "games\n",
        "well\n",
        "first\n",
        "much\n",
        "know\n",
        "didn\n",
        "see\n",
        "even\n",
        " \n",
        "Concept 8:"
       ]
      },
      {
       "output_type": "stream",
       "stream": "stdout",
       "text": [
        "\n",
        "team\n",
        "good\n",
        "runs\n",
        "win\n",
        "come\n",
        "big\n",
        "one\n",
        "jewish\n",
        "netcom\n",
        "roger\n",
        " \n",
        "Concept 9:"
       ]
      },
      {
       "output_type": "stream",
       "stream": "stdout",
       "text": [
        "\n",
        "players\n",
        "like\n",
        "get\n",
        "time\n",
        "braves\n",
        "jays\n",
        "believe\n",
        "organization\n",
        "sure\n",
        "every\n",
        " \n",
        "Concept 10:"
       ]
      },
      {
       "output_type": "stream",
       "stream": "stdout",
       "text": [
        "\n",
        "game\n",
        "time\n",
        "baseball\n",
        "hit\n",
        "know\n",
        "ll\n",
        "people\n",
        "ca\n",
        "get\n",
        "host\n",
        " \n",
        "Concept 11:"
       ]
      },
      {
       "output_type": "stream",
       "stream": "stdout",
       "text": [
        "\n",
        "one\n",
        "baseball\n",
        "university\n",
        "win\n",
        "distribution\n",
        "last\n",
        "won\n",
        "average\n",
        "first\n",
        "well\n",
        " \n",
        "Concept 12:"
       ]
      },
      {
       "output_type": "stream",
       "stream": "stdout",
       "text": [
        "\n",
        "game\n",
        "one\n",
        "team\n",
        "know\n",
        "right\n",
        "best\n",
        "league\n",
        "university\n",
        "year\n",
        "make\n",
        " \n",
        "Concept 13:"
       ]
      },
      {
       "output_type": "stream",
       "stream": "stdout",
       "text": [
        "\n",
        "year\n",
        "much\n",
        "well\n",
        "team\n",
        "games\n",
        "first\n",
        "distribution\n",
        "right\n",
        "time\n",
        "ca\n",
        " \n",
        "Concept 14:"
       ]
      },
      {
       "output_type": "stream",
       "stream": "stdout",
       "text": [
        "\n",
        "would\n",
        "university\n",
        "time\n",
        "two\n",
        "good\n",
        "go\n",
        "games\n",
        "also\n",
        "article\n",
        "game\n",
        " \n",
        "Concept 15:"
       ]
      },
      {
       "output_type": "stream",
       "stream": "stdout",
       "text": [
        "\n",
        "baseball\n",
        "game\n",
        "ca\n",
        "players\n",
        "article\n",
        "well\n",
        "organization\n",
        "pitcher\n",
        "season\n",
        "see\n",
        " \n",
        "Concept 16:"
       ]
      },
      {
       "output_type": "stream",
       "stream": "stdout",
       "text": [
        "\n",
        "article\n",
        "even\n",
        "games\n",
        "hit\n",
        "lines\n",
        "right\n",
        "world\n",
        "player\n",
        "like\n",
        "organization\n",
        " \n",
        "Concept 17:"
       ]
      },
      {
       "output_type": "stream",
       "stream": "stdout",
       "text": [
        "\n",
        "host\n",
        "think\n",
        "better\n",
        "get\n",
        "first\n",
        "good\n",
        "braves\n",
        "article\n",
        "game\n",
        "sox\n",
        " \n",
        "Concept 18:"
       ]
      },
      {
       "output_type": "stream",
       "stream": "stdout",
       "text": [
        "\n",
        "would\n",
        "baseball\n",
        "year\n",
        "article\n",
        "last\n",
        "much\n",
        "lines\n",
        "go\n",
        "ca\n",
        "like\n",
        " \n",
        "Concept 19:"
       ]
      },
      {
       "output_type": "stream",
       "stream": "stdout",
       "text": [
        "\n",
        "university\n",
        "better\n",
        "organization\n",
        "lines\n",
        "years\n",
        "baseball\n",
        "think\n",
        "league\n",
        "day\n",
        "back\n",
        " \n",
        "Concept 20:"
       ]
      },
      {
       "output_type": "stream",
       "stream": "stdout",
       "text": [
        "\n",
        "baseball\n",
        "league\n",
        "like\n",
        "good\n",
        "university\n",
        "article\n",
        "would\n",
        "game\n",
        "year\n",
        "many\n",
        " \n",
        "Concept 21:"
       ]
      },
      {
       "output_type": "stream",
       "stream": "stdout",
       "text": [
        "\n",
        "baseball\n",
        "two\n",
        "team\n",
        "host\n",
        "good\n",
        "games\n",
        "last\n",
        "right\n",
        "could\n",
        "10\n",
        " \n",
        "Concept 22:"
       ]
      },
      {
       "output_type": "stream",
       "stream": "stdout",
       "text": [
        "\n",
        "year\n",
        "game\n",
        "games\n",
        "hit\n",
        "better\n",
        "even\n",
        "since\n",
        "player\n",
        "back\n",
        "two\n",
        " \n",
        "Concept 23:"
       ]
      },
      {
       "output_type": "stream",
       "stream": "stdout",
       "text": [
        "\n",
        "organization\n",
        "games\n",
        "year\n",
        "good\n",
        "baseball\n",
        "get\n",
        "would\n",
        "many\n",
        "lines\n",
        "one\n",
        " \n",
        "Concept 24:"
       ]
      },
      {
       "output_type": "stream",
       "stream": "stdout",
       "text": [
        "\n",
        "lines\n",
        "team\n",
        "runs\n",
        "last year\n",
        "know\n",
        "would\n",
        "good\n",
        "win\n",
        "much\n",
        "lot\n",
        " \n",
        "Concept 25:"
       ]
      },
      {
       "output_type": "stream",
       "stream": "stdout",
       "text": [
        "\n",
        "000th career\n",
        "000th career win\n",
        "000th\n",
        "001211\n",
        "001211 18457\n",
        "good\n",
        "games\n",
        "year\n",
        "get\n",
        "last\n",
        " \n",
        "Concept 26:"
       ]
      },
      {
       "output_type": "stream",
       "stream": "stdout",
       "text": [
        "\n",
        "0000ahc udcps3 cps\n",
        "0000ahc udcps3\n",
        "0000ahc\n",
        "000th career win\n",
        "000th\n",
        "000th career\n",
        "would\n",
        "games\n",
        "organization\n",
        "article\n",
        " \n"
       ]
      }
     ],
     "prompt_number": 45
    },
    {
     "cell_type": "markdown",
     "metadata": {},
     "source": [
      "After running the analysis, I have seen the following key words show up quite a bit:\n",
      "<li>Baseball (of course)\n",
      "<li>University (not sure if that means college baseball or just people posting from their universities)\n",
      "<li>Jewish\n",
      "<li>Team names such as Braves, Sox, Jays\n",
      "<li>Hit\n",
      "<li>Organization\n",
      "<li>League"
     ]
    },
    {
     "cell_type": "markdown",
     "metadata": {},
     "source": [
      "From this, I was able to tell a majority of the articles were about a Jewish organization hitting university (students?) with team branded, league approved, baseballs. (kidding)"
     ]
    },
    {
     "cell_type": "code",
     "collapsed": false,
     "input": [],
     "language": "python",
     "metadata": {},
     "outputs": []
    }
   ],
   "metadata": {}
  }
 ]
}